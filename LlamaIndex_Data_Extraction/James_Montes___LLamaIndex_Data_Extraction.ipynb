{
  "nbformat": 4,
  "nbformat_minor": 0,
  "metadata": {
    "colab": {
      "provenance": []
    },
    "kernelspec": {
      "name": "python3",
      "display_name": "Python 3"
    },
    "language_info": {
      "name": "python"
    }
  },
  "cells": [
    {
      "cell_type": "markdown",
      "source": [
        "![download.png](data:image/png;base64,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)"
      ],
      "metadata": {
        "id": "9OV2_XFRG5LY"
      }
    },
    {
      "cell_type": "markdown",
      "source": [
        "**What is LlamaIndex?**\n",
        "\n"
      ],
      "metadata": {
        "id": "SzeBm9jXFkj-"
      }
    },
    {
      "cell_type": "markdown",
      "source": [
        "LlamaIndex is a library designed to help in creating structured data from unstructured text using LLMs (Large Language Models) such as OpenAI's GPT models. It facilitates organizing raw text data into a format that is more usable and meaningful for downstream applications.\n",
        "\n",
        "\n",
        "\n",
        "It simplifies the process of extracting useful information from complex, unstructured sources like documents, chats, logs, or other long-form text. By structuring the data, it becomes easier to analyze, query, and manipulate.\n",
        "\n",
        "\n",
        "\n"
      ],
      "metadata": {
        "id": "43VQ7aADInSr"
      }
    },
    {
      "cell_type": "markdown",
      "source": [
        "**Key Concepts of LlamaIndex**\n",
        "\n",
        "1. **Data Extraction:** LlamaIndex extracts and structures data from long-form, unstructured texts (like conversations, articles, or logs) by processing these texts through predefined templates or models. This structured output can then be used for deeper analysis, machine learning, or further decision-making.\n",
        "\n",
        "2. **Programmatic Extractors**: LlamaIndex offers several extractors that allow you to define specific formats for the output data. These extractors map unstructured data into structured formats (e.g., lists, dictionaries) based on custom schemas or Pydantic models.\n",
        "\n",
        "3. **Pydantic Models**: Pydantic is a Python library for data validation and settings management, which can be used to define the expected structure of the data. LlamaIndex leverages Pydantic to enforce type checking and validate structured data.\n",
        "\n",
        "4.** LlamaIndex and LLM Integration**: LlamaIndex works seamlessly with LLMs like OpenAI’s GPT-4 to process text data. The LLM is used for interpreting the text and recognizing entities, relationships, and structures within the data."
      ],
      "metadata": {
        "id": "96VA0geTVuUL"
      }
    },
    {
      "cell_type": "markdown",
      "source": [
        "**Installation**\n",
        "\n",
        "To get started\n",
        "\n",
        "\n",
        "Install LlamaIndex and OpenAi to get the LLM"
      ],
      "metadata": {
        "id": "Ap5jx5obH9h_"
      }
    },
    {
      "cell_type": "code",
      "source": [
        "pip install llama-index-core llama-index-llms-openai"
      ],
      "metadata": {
        "colab": {
          "base_uri": "https://localhost:8080/"
        },
        "collapsed": true,
        "id": "2In4Og3nIoGC",
        "outputId": "a53e040a-c9b0-4d12-bab5-1baca0464a9a"
      },
      "execution_count": null,
      "outputs": [
        {
          "output_type": "stream",
          "name": "stdout",
          "text": [
            "Collecting llama-index-core\n",
            "  Downloading llama_index_core-0.12.16.post1-py3-none-any.whl.metadata (2.5 kB)\n",
            "Collecting llama-index-llms-openai\n",
            "  Downloading llama_index_llms_openai-0.3.18-py3-none-any.whl.metadata (3.3 kB)\n",
            "Requirement already satisfied: PyYAML>=6.0.1 in /usr/local/lib/python3.11/dist-packages (from llama-index-core) (6.0.2)\n",
            "Requirement already satisfied: SQLAlchemy>=1.4.49 in /usr/local/lib/python3.11/dist-packages (from SQLAlchemy[asyncio]>=1.4.49->llama-index-core) (2.0.37)\n",
            "Requirement already satisfied: aiohttp<4.0.0,>=3.8.6 in /usr/local/lib/python3.11/dist-packages (from llama-index-core) (3.11.11)\n",
            "Collecting dataclasses-json (from llama-index-core)\n",
            "  Downloading dataclasses_json-0.6.7-py3-none-any.whl.metadata (25 kB)\n",
            "Requirement already satisfied: deprecated>=1.2.9.3 in /usr/local/lib/python3.11/dist-packages (from llama-index-core) (1.2.18)\n",
            "Collecting dirtyjson<2.0.0,>=1.0.8 (from llama-index-core)\n",
            "  Downloading dirtyjson-1.0.8-py3-none-any.whl.metadata (11 kB)\n",
            "Collecting filetype<2.0.0,>=1.2.0 (from llama-index-core)\n",
            "  Downloading filetype-1.2.0-py2.py3-none-any.whl.metadata (6.5 kB)\n",
            "Requirement already satisfied: fsspec>=2023.5.0 in /usr/local/lib/python3.11/dist-packages (from llama-index-core) (2024.10.0)\n",
            "Requirement already satisfied: httpx in /usr/local/lib/python3.11/dist-packages (from llama-index-core) (0.28.1)\n",
            "Requirement already satisfied: nest-asyncio<2.0.0,>=1.5.8 in /usr/local/lib/python3.11/dist-packages (from llama-index-core) (1.6.0)\n",
            "Requirement already satisfied: networkx>=3.0 in /usr/local/lib/python3.11/dist-packages (from llama-index-core) (3.4.2)\n",
            "Requirement already satisfied: nltk>3.8.1 in /usr/local/lib/python3.11/dist-packages (from llama-index-core) (3.9.1)\n",
            "Requirement already satisfied: numpy in /usr/local/lib/python3.11/dist-packages (from llama-index-core) (1.26.4)\n",
            "Requirement already satisfied: pillow>=9.0.0 in /usr/local/lib/python3.11/dist-packages (from llama-index-core) (11.1.0)\n",
            "Requirement already satisfied: pydantic>=2.8.0 in /usr/local/lib/python3.11/dist-packages (from llama-index-core) (2.10.6)\n",
            "Requirement already satisfied: requests>=2.31.0 in /usr/local/lib/python3.11/dist-packages (from llama-index-core) (2.32.3)\n",
            "Requirement already satisfied: tenacity!=8.4.0,<10.0.0,>=8.2.0 in /usr/local/lib/python3.11/dist-packages (from llama-index-core) (9.0.0)\n",
            "Collecting tiktoken>=0.3.3 (from llama-index-core)\n",
            "  Downloading tiktoken-0.8.0-cp311-cp311-manylinux_2_17_x86_64.manylinux2014_x86_64.whl.metadata (6.6 kB)\n",
            "Requirement already satisfied: tqdm<5.0.0,>=4.66.1 in /usr/local/lib/python3.11/dist-packages (from llama-index-core) (4.67.1)\n",
            "Requirement already satisfied: typing-extensions>=4.5.0 in /usr/local/lib/python3.11/dist-packages (from llama-index-core) (4.12.2)\n",
            "Collecting typing-inspect>=0.8.0 (from llama-index-core)\n",
            "  Downloading typing_inspect-0.9.0-py3-none-any.whl.metadata (1.5 kB)\n",
            "Requirement already satisfied: wrapt in /usr/local/lib/python3.11/dist-packages (from llama-index-core) (1.17.2)\n",
            "Requirement already satisfied: openai<2.0.0,>=1.58.1 in /usr/local/lib/python3.11/dist-packages (from llama-index-llms-openai) (1.61.1)\n",
            "Requirement already satisfied: aiohappyeyeballs>=2.3.0 in /usr/local/lib/python3.11/dist-packages (from aiohttp<4.0.0,>=3.8.6->llama-index-core) (2.4.4)\n",
            "Requirement already satisfied: aiosignal>=1.1.2 in /usr/local/lib/python3.11/dist-packages (from aiohttp<4.0.0,>=3.8.6->llama-index-core) (1.3.2)\n",
            "Requirement already satisfied: attrs>=17.3.0 in /usr/local/lib/python3.11/dist-packages (from aiohttp<4.0.0,>=3.8.6->llama-index-core) (25.1.0)\n",
            "Requirement already satisfied: frozenlist>=1.1.1 in /usr/local/lib/python3.11/dist-packages (from aiohttp<4.0.0,>=3.8.6->llama-index-core) (1.5.0)\n",
            "Requirement already satisfied: multidict<7.0,>=4.5 in /usr/local/lib/python3.11/dist-packages (from aiohttp<4.0.0,>=3.8.6->llama-index-core) (6.1.0)\n",
            "Requirement already satisfied: propcache>=0.2.0 in /usr/local/lib/python3.11/dist-packages (from aiohttp<4.0.0,>=3.8.6->llama-index-core) (0.2.1)\n",
            "Requirement already satisfied: yarl<2.0,>=1.17.0 in /usr/local/lib/python3.11/dist-packages (from aiohttp<4.0.0,>=3.8.6->llama-index-core) (1.18.3)\n",
            "Requirement already satisfied: click in /usr/local/lib/python3.11/dist-packages (from nltk>3.8.1->llama-index-core) (8.1.8)\n",
            "Requirement already satisfied: joblib in /usr/local/lib/python3.11/dist-packages (from nltk>3.8.1->llama-index-core) (1.4.2)\n",
            "Requirement already satisfied: regex>=2021.8.3 in /usr/local/lib/python3.11/dist-packages (from nltk>3.8.1->llama-index-core) (2024.11.6)\n",
            "Requirement already satisfied: anyio<5,>=3.5.0 in /usr/local/lib/python3.11/dist-packages (from openai<2.0.0,>=1.58.1->llama-index-llms-openai) (3.7.1)\n",
            "Requirement already satisfied: distro<2,>=1.7.0 in /usr/local/lib/python3.11/dist-packages (from openai<2.0.0,>=1.58.1->llama-index-llms-openai) (1.9.0)\n",
            "Requirement already satisfied: jiter<1,>=0.4.0 in /usr/local/lib/python3.11/dist-packages (from openai<2.0.0,>=1.58.1->llama-index-llms-openai) (0.8.2)\n",
            "Requirement already satisfied: sniffio in /usr/local/lib/python3.11/dist-packages (from openai<2.0.0,>=1.58.1->llama-index-llms-openai) (1.3.1)\n",
            "Requirement already satisfied: certifi in /usr/local/lib/python3.11/dist-packages (from httpx->llama-index-core) (2025.1.31)\n",
            "Requirement already satisfied: httpcore==1.* in /usr/local/lib/python3.11/dist-packages (from httpx->llama-index-core) (1.0.7)\n",
            "Requirement already satisfied: idna in /usr/local/lib/python3.11/dist-packages (from httpx->llama-index-core) (3.10)\n",
            "Requirement already satisfied: h11<0.15,>=0.13 in /usr/local/lib/python3.11/dist-packages (from httpcore==1.*->httpx->llama-index-core) (0.14.0)\n",
            "Requirement already satisfied: annotated-types>=0.6.0 in /usr/local/lib/python3.11/dist-packages (from pydantic>=2.8.0->llama-index-core) (0.7.0)\n",
            "Requirement already satisfied: pydantic-core==2.27.2 in /usr/local/lib/python3.11/dist-packages (from pydantic>=2.8.0->llama-index-core) (2.27.2)\n",
            "Requirement already satisfied: charset-normalizer<4,>=2 in /usr/local/lib/python3.11/dist-packages (from requests>=2.31.0->llama-index-core) (3.4.1)\n",
            "Requirement already satisfied: urllib3<3,>=1.21.1 in /usr/local/lib/python3.11/dist-packages (from requests>=2.31.0->llama-index-core) (2.3.0)\n",
            "Requirement already satisfied: greenlet!=0.4.17 in /usr/local/lib/python3.11/dist-packages (from SQLAlchemy>=1.4.49->SQLAlchemy[asyncio]>=1.4.49->llama-index-core) (3.1.1)\n",
            "Collecting mypy-extensions>=0.3.0 (from typing-inspect>=0.8.0->llama-index-core)\n",
            "  Downloading mypy_extensions-1.0.0-py3-none-any.whl.metadata (1.1 kB)\n",
            "Collecting marshmallow<4.0.0,>=3.18.0 (from dataclasses-json->llama-index-core)\n",
            "  Downloading marshmallow-3.26.1-py3-none-any.whl.metadata (7.3 kB)\n",
            "Requirement already satisfied: packaging>=17.0 in /usr/local/lib/python3.11/dist-packages (from marshmallow<4.0.0,>=3.18.0->dataclasses-json->llama-index-core) (24.2)\n",
            "Downloading llama_index_core-0.12.16.post1-py3-none-any.whl (1.6 MB)\n",
            "\u001b[2K   \u001b[90m━━━━━━━━━━━━━━━━━━━━━━━━━━━━━━━━━━━━━━━━\u001b[0m \u001b[32m1.6/1.6 MB\u001b[0m \u001b[31m20.4 MB/s\u001b[0m eta \u001b[36m0:00:00\u001b[0m\n",
            "\u001b[?25hDownloading llama_index_llms_openai-0.3.18-py3-none-any.whl (14 kB)\n",
            "Downloading dirtyjson-1.0.8-py3-none-any.whl (25 kB)\n",
            "Downloading filetype-1.2.0-py2.py3-none-any.whl (19 kB)\n",
            "Downloading tiktoken-0.8.0-cp311-cp311-manylinux_2_17_x86_64.manylinux2014_x86_64.whl (1.2 MB)\n",
            "\u001b[2K   \u001b[90m━━━━━━━━━━━━━━━━━━━━━━━━━━━━━━━━━━━━━━━━\u001b[0m \u001b[32m1.2/1.2 MB\u001b[0m \u001b[31m39.3 MB/s\u001b[0m eta \u001b[36m0:00:00\u001b[0m\n",
            "\u001b[?25hDownloading typing_inspect-0.9.0-py3-none-any.whl (8.8 kB)\n",
            "Downloading dataclasses_json-0.6.7-py3-none-any.whl (28 kB)\n",
            "Downloading marshmallow-3.26.1-py3-none-any.whl (50 kB)\n",
            "\u001b[2K   \u001b[90m━━━━━━━━━━━━━━━━━━━━━━━━━━━━━━━━━━━━━━━━\u001b[0m \u001b[32m50.9/50.9 kB\u001b[0m \u001b[31m2.8 MB/s\u001b[0m eta \u001b[36m0:00:00\u001b[0m\n",
            "\u001b[?25hDownloading mypy_extensions-1.0.0-py3-none-any.whl (4.7 kB)\n",
            "Installing collected packages: filetype, dirtyjson, mypy-extensions, marshmallow, typing-inspect, tiktoken, dataclasses-json, llama-index-core, llama-index-llms-openai\n",
            "Successfully installed dataclasses-json-0.6.7 dirtyjson-1.0.8 filetype-1.2.0 llama-index-core-0.12.16.post1 llama-index-llms-openai-0.3.18 marshmallow-3.26.1 mypy-extensions-1.0.0 tiktoken-0.8.0 typing-inspect-0.9.0\n"
          ]
        }
      ]
    },
    {
      "cell_type": "markdown",
      "source": [
        "Install pydantic for defining the structure of our data models\n",
        "\n"
      ],
      "metadata": {
        "id": "a-1VTS2NXeMr"
      }
    },
    {
      "cell_type": "code",
      "source": [
        "pip install pydantic"
      ],
      "metadata": {
        "id": "GMAibjswXm8r",
        "colab": {
          "base_uri": "https://localhost:8080/"
        },
        "collapsed": true,
        "outputId": "e6a5f6fb-7866-4ff5-9e6e-e8ca7696f4f0"
      },
      "execution_count": null,
      "outputs": [
        {
          "output_type": "stream",
          "name": "stdout",
          "text": [
            "Requirement already satisfied: pydantic in /usr/local/lib/python3.11/dist-packages (2.10.6)\n",
            "Requirement already satisfied: annotated-types>=0.6.0 in /usr/local/lib/python3.11/dist-packages (from pydantic) (0.7.0)\n",
            "Requirement already satisfied: pydantic-core==2.27.2 in /usr/local/lib/python3.11/dist-packages (from pydantic) (2.27.2)\n",
            "Requirement already satisfied: typing-extensions>=4.12.2 in /usr/local/lib/python3.11/dist-packages (from pydantic) (4.12.2)\n"
          ]
        }
      ]
    },
    {
      "cell_type": "markdown",
      "source": [
        "Lets Define out pydantic model"
      ],
      "metadata": {
        "id": "8f3Gvx849foy"
      }
    },
    {
      "cell_type": "code",
      "source": [
        "from pydantic import BaseModel, Field\n",
        "from datetime import date\n",
        "from typing import Optional\n",
        "\n",
        "class Education(BaseModel):\n",
        "    \"\"\"Represents an individual's education history.\"\"\"\n",
        "    school: str = Field(description=\"The name of the school or university attended.\")\n",
        "    startDate: str = Field(description=\"The start date of the educational program.\")\n",
        "    endDate: str = Field(description=\"The end date of the educational program.\")\n",
        "    degree: str = Field(description=\"The degree or certification earned during the program.\")\n",
        "\n",
        "class Experience(BaseModel):\n",
        "    \"\"\"Represents an individual's work experience.\"\"\"\n",
        "    title: str = Field(description=\"The job title held during the work experience.\")\n",
        "    company: str = Field(description=\"The company or organization where the work was performed.\")\n",
        "    startDate: str = Field(description=\"The start date of the work experience.\")\n",
        "    endDate: str = Field(description=\"The end date of the work experience.\")\n",
        "    duration: str = Field(description=\"The current duration of the work experience\")\n",
        "\n",
        "class ResumeData(BaseModel):\n",
        "    \"\"\"Represents the data in an individual's resume or CV.\"\"\"\n",
        "    name: str = Field(description=\"The name of the individual.\")\n",
        "    email: str = Field(description=\"The email address of the individual.\")\n",
        "    phone_number: str = Field(description=\"The phone number of the individual.\")\n",
        "    address: str = Field(description=\"The physical address of the individual.\")\n",
        "    about: str = Field(description=\"A brief introduction or summary about the individual.\")\n",
        "    education: list[Education] = Field(description=\"A list of the individual's education history.\")\n",
        "    experience: list[Experience] = Field(description=\"A list of the individual's work experience.\")\n",
        "    blood_type: Optional[str] = Field(description=\"The blood type of the individual.\")\n",
        "    # blood_type: Optional[str] = Field(default=\"N/A\", description=\"The blood type of the individual.\")\n"
      ],
      "metadata": {
        "id": "_883bje_9WJO"
      },
      "execution_count": null,
      "outputs": []
    },
    {
      "cell_type": "code",
      "source": [],
      "metadata": {
        "id": "jqgP59YfiFPg"
      },
      "execution_count": null,
      "outputs": []
    },
    {
      "cell_type": "markdown",
      "source": [
        "Lets load our resume from a pdf"
      ],
      "metadata": {
        "id": "Jbx4zk3Y0ytj"
      }
    },
    {
      "cell_type": "code",
      "source": [
        "from llama_index.core import download_loader\n",
        "\n",
        "PDFReader = download_loader(\"PDFReader\")\n",
        "reader = PDFReader()\n",
        "\n",
        "documents = reader.load_data(\"sample-resume.pdf\")\n",
        "resume_text = documents[0].text  # Extract text\n",
        "\n",
        "print(resume_text)\n"
      ],
      "metadata": {
        "colab": {
          "base_uri": "https://localhost:8080/"
        },
        "id": "hyRq9MFc0yO_",
        "outputId": "265c2615-b93b-4db5-959c-4525915ce7e0"
      },
      "execution_count": null,
      "outputs": [
        {
          "output_type": "stream",
          "name": "stderr",
          "text": [
            "<ipython-input-48-5d54611858ea>:3: DeprecationWarning: Call to deprecated function (or staticmethod) download_loader. (`download_loader()` is deprecated. Please install tool using pip install directly instead.)\n",
            "  PDFReader = download_loader(\"PDFReader\")\n"
          ]
        },
        {
          "output_type": "stream",
          "name": "stdout",
          "text": [
            "CRISTEL VILLARIN - REYES\n",
            "A staff with 8+ years of experience in a\n",
            "corporate setting. Proficient in report\n",
            "preparation, data management and\n",
            "presenter. Skilled in coordination,\n",
            "communication and teamwork,\n",
            "dedicated to achieving team’s goal,\n",
            "leading to the organization’s success.\n",
            "WORK EXPERIENCE\n",
            "Master Data Custodian - Supervisor\n",
            "Bounty Plus Inc.\n",
            "November 2022-Present\n",
            "Responsible for material enrolment and configuration in\n",
            "the systems.\n",
            "Handles Procurement Module and assist in Inventory\n",
            "Module.\n",
            "Facilitate meetings and trainings to end-users for\n",
            "implementation and new updates related to systems.\n",
            "Performs administrative task especially coordination\n",
            "within the team and other department inside Bounty\n",
            "Fresh Group of Companies.\n",
            "Finance Administrative Assistant\n",
            "Bounty Agro Ventures Inc.\n",
            "September 2016 - November 2022\n",
            "Executive Assistant of AVP of Finance focuses on\n",
            "coordination, consolidating data, and report preparation.\n",
            "Accounting Clerk\n",
            "Pilipinas Kyoritsu Inc.\n",
            "August 2015 - June 2016\n",
            "A project-based work mainly assigned in updating\n",
            "receipts for claiming of Input Tax.\n",
            "Pattern Clerk \n",
            "Excellent Quality Apparel\n",
            "June 2014 - July 2015\n",
            "Responsible for scheduling and monitoring of progress of\n",
            "new garments from different clients.\n",
            "Age: 31\n",
            "Status: Married\n",
            "CERTIFICATIONS\n",
            "Diploma In Taxation\n",
            "Qualified 2024\n",
            "Certified Tax Technicians Phils.\n",
            "EDUCATION\n",
            "BS Business Administration\n",
            "Major in Operations Management\n",
            "STI College - Balayan 2014\n",
            "Secondary Education\n",
            "San Piro National Highschool, 2010\n",
            "Primary Education\n",
            "Baha Elementary School, 2006\n",
            "0929-959-2303\n",
            "villarincristel@gmail.com\n",
            "Block 8 Lot 28 Romanville Subd. Brgy. Tagapo Sta. Rosa Laguna\n"
          ]
        }
      ]
    },
    {
      "cell_type": "code",
      "source": [
        "pip install openai"
      ],
      "metadata": {
        "colab": {
          "base_uri": "https://localhost:8080/"
        },
        "collapsed": true,
        "id": "AGGCU8lw_K58",
        "outputId": "9c28f3d4-07ed-426c-b8a5-b442883bc2c8"
      },
      "execution_count": null,
      "outputs": [
        {
          "output_type": "stream",
          "name": "stdout",
          "text": [
            "Requirement already satisfied: llama_index in /usr/local/lib/python3.11/dist-packages (0.12.16)\n",
            "Requirement already satisfied: openai in /usr/local/lib/python3.11/dist-packages (1.61.1)\n",
            "Requirement already satisfied: llama-index-agent-openai<0.5.0,>=0.4.0 in /usr/local/lib/python3.11/dist-packages (from llama_index) (0.4.3)\n",
            "Requirement already satisfied: llama-index-cli<0.5.0,>=0.4.0 in /usr/local/lib/python3.11/dist-packages (from llama_index) (0.4.0)\n",
            "Requirement already satisfied: llama-index-core<0.13.0,>=0.12.16 in /usr/local/lib/python3.11/dist-packages (from llama_index) (0.12.16.post1)\n",
            "Requirement already satisfied: llama-index-embeddings-openai<0.4.0,>=0.3.0 in /usr/local/lib/python3.11/dist-packages (from llama_index) (0.3.1)\n",
            "Requirement already satisfied: llama-index-indices-managed-llama-cloud>=0.4.0 in /usr/local/lib/python3.11/dist-packages (from llama_index) (0.6.4)\n",
            "Requirement already satisfied: llama-index-llms-openai<0.4.0,>=0.3.0 in /usr/local/lib/python3.11/dist-packages (from llama_index) (0.3.18)\n",
            "Requirement already satisfied: llama-index-multi-modal-llms-openai<0.5.0,>=0.4.0 in /usr/local/lib/python3.11/dist-packages (from llama_index) (0.4.3)\n",
            "Requirement already satisfied: llama-index-program-openai<0.4.0,>=0.3.0 in /usr/local/lib/python3.11/dist-packages (from llama_index) (0.3.1)\n",
            "Requirement already satisfied: llama-index-question-gen-openai<0.4.0,>=0.3.0 in /usr/local/lib/python3.11/dist-packages (from llama_index) (0.3.0)\n",
            "Requirement already satisfied: llama-index-readers-file<0.5.0,>=0.4.0 in /usr/local/lib/python3.11/dist-packages (from llama_index) (0.4.4)\n",
            "Requirement already satisfied: llama-index-readers-llama-parse>=0.4.0 in /usr/local/lib/python3.11/dist-packages (from llama_index) (0.4.0)\n",
            "Requirement already satisfied: nltk>3.8.1 in /usr/local/lib/python3.11/dist-packages (from llama_index) (3.9.1)\n",
            "Requirement already satisfied: anyio<5,>=3.5.0 in /usr/local/lib/python3.11/dist-packages (from openai) (3.7.1)\n",
            "Requirement already satisfied: distro<2,>=1.7.0 in /usr/local/lib/python3.11/dist-packages (from openai) (1.9.0)\n",
            "Requirement already satisfied: httpx<1,>=0.23.0 in /usr/local/lib/python3.11/dist-packages (from openai) (0.28.1)\n",
            "Requirement already satisfied: jiter<1,>=0.4.0 in /usr/local/lib/python3.11/dist-packages (from openai) (0.8.2)\n",
            "Requirement already satisfied: pydantic<3,>=1.9.0 in /usr/local/lib/python3.11/dist-packages (from openai) (2.10.6)\n",
            "Requirement already satisfied: sniffio in /usr/local/lib/python3.11/dist-packages (from openai) (1.3.1)\n",
            "Requirement already satisfied: tqdm>4 in /usr/local/lib/python3.11/dist-packages (from openai) (4.67.1)\n",
            "Requirement already satisfied: typing-extensions<5,>=4.11 in /usr/local/lib/python3.11/dist-packages (from openai) (4.12.2)\n",
            "Requirement already satisfied: idna>=2.8 in /usr/local/lib/python3.11/dist-packages (from anyio<5,>=3.5.0->openai) (3.10)\n",
            "Requirement already satisfied: certifi in /usr/local/lib/python3.11/dist-packages (from httpx<1,>=0.23.0->openai) (2024.12.14)\n",
            "Requirement already satisfied: httpcore==1.* in /usr/local/lib/python3.11/dist-packages (from httpx<1,>=0.23.0->openai) (1.0.7)\n",
            "Requirement already satisfied: h11<0.15,>=0.13 in /usr/local/lib/python3.11/dist-packages (from httpcore==1.*->httpx<1,>=0.23.0->openai) (0.14.0)\n",
            "Requirement already satisfied: PyYAML>=6.0.1 in /usr/local/lib/python3.11/dist-packages (from llama-index-core<0.13.0,>=0.12.16->llama_index) (6.0.2)\n",
            "Requirement already satisfied: SQLAlchemy>=1.4.49 in /usr/local/lib/python3.11/dist-packages (from SQLAlchemy[asyncio]>=1.4.49->llama-index-core<0.13.0,>=0.12.16->llama_index) (2.0.37)\n",
            "Requirement already satisfied: aiohttp<4.0.0,>=3.8.6 in /usr/local/lib/python3.11/dist-packages (from llama-index-core<0.13.0,>=0.12.16->llama_index) (3.11.11)\n",
            "Requirement already satisfied: dataclasses-json in /usr/local/lib/python3.11/dist-packages (from llama-index-core<0.13.0,>=0.12.16->llama_index) (0.6.7)\n",
            "Requirement already satisfied: deprecated>=1.2.9.3 in /usr/local/lib/python3.11/dist-packages (from llama-index-core<0.13.0,>=0.12.16->llama_index) (1.2.18)\n",
            "Requirement already satisfied: dirtyjson<2.0.0,>=1.0.8 in /usr/local/lib/python3.11/dist-packages (from llama-index-core<0.13.0,>=0.12.16->llama_index) (1.0.8)\n",
            "Requirement already satisfied: filetype<2.0.0,>=1.2.0 in /usr/local/lib/python3.11/dist-packages (from llama-index-core<0.13.0,>=0.12.16->llama_index) (1.2.0)\n",
            "Requirement already satisfied: fsspec>=2023.5.0 in /usr/local/lib/python3.11/dist-packages (from llama-index-core<0.13.0,>=0.12.16->llama_index) (2024.10.0)\n",
            "Requirement already satisfied: nest-asyncio<2.0.0,>=1.5.8 in /usr/local/lib/python3.11/dist-packages (from llama-index-core<0.13.0,>=0.12.16->llama_index) (1.6.0)\n",
            "Requirement already satisfied: networkx>=3.0 in /usr/local/lib/python3.11/dist-packages (from llama-index-core<0.13.0,>=0.12.16->llama_index) (3.4.2)\n",
            "Requirement already satisfied: numpy in /usr/local/lib/python3.11/dist-packages (from llama-index-core<0.13.0,>=0.12.16->llama_index) (1.26.4)\n",
            "Requirement already satisfied: pillow>=9.0.0 in /usr/local/lib/python3.11/dist-packages (from llama-index-core<0.13.0,>=0.12.16->llama_index) (11.1.0)\n",
            "Requirement already satisfied: requests>=2.31.0 in /usr/local/lib/python3.11/dist-packages (from llama-index-core<0.13.0,>=0.12.16->llama_index) (2.32.3)\n",
            "Requirement already satisfied: tenacity!=8.4.0,<10.0.0,>=8.2.0 in /usr/local/lib/python3.11/dist-packages (from llama-index-core<0.13.0,>=0.12.16->llama_index) (9.0.0)\n",
            "Requirement already satisfied: tiktoken>=0.3.3 in /usr/local/lib/python3.11/dist-packages (from llama-index-core<0.13.0,>=0.12.16->llama_index) (0.8.0)\n",
            "Requirement already satisfied: typing-inspect>=0.8.0 in /usr/local/lib/python3.11/dist-packages (from llama-index-core<0.13.0,>=0.12.16->llama_index) (0.9.0)\n",
            "Requirement already satisfied: wrapt in /usr/local/lib/python3.11/dist-packages (from llama-index-core<0.13.0,>=0.12.16->llama_index) (1.17.2)\n",
            "Requirement already satisfied: llama-cloud<0.2.0,>=0.1.8 in /usr/local/lib/python3.11/dist-packages (from llama-index-indices-managed-llama-cloud>=0.4.0->llama_index) (0.1.11)\n",
            "Requirement already satisfied: beautifulsoup4<5.0.0,>=4.12.3 in /usr/local/lib/python3.11/dist-packages (from llama-index-readers-file<0.5.0,>=0.4.0->llama_index) (4.13.3)\n",
            "Requirement already satisfied: pandas in /usr/local/lib/python3.11/dist-packages (from llama-index-readers-file<0.5.0,>=0.4.0->llama_index) (2.2.2)\n",
            "Requirement already satisfied: pypdf<6.0.0,>=5.1.0 in /usr/local/lib/python3.11/dist-packages (from llama-index-readers-file<0.5.0,>=0.4.0->llama_index) (5.2.0)\n",
            "Requirement already satisfied: striprtf<0.0.27,>=0.0.26 in /usr/local/lib/python3.11/dist-packages (from llama-index-readers-file<0.5.0,>=0.4.0->llama_index) (0.0.26)\n",
            "Requirement already satisfied: llama-parse>=0.5.0 in /usr/local/lib/python3.11/dist-packages (from llama-index-readers-llama-parse>=0.4.0->llama_index) (0.6.0)\n",
            "Requirement already satisfied: click in /usr/local/lib/python3.11/dist-packages (from nltk>3.8.1->llama_index) (8.1.8)\n",
            "Requirement already satisfied: joblib in /usr/local/lib/python3.11/dist-packages (from nltk>3.8.1->llama_index) (1.4.2)\n",
            "Requirement already satisfied: regex>=2021.8.3 in /usr/local/lib/python3.11/dist-packages (from nltk>3.8.1->llama_index) (2024.11.6)\n",
            "Requirement already satisfied: annotated-types>=0.6.0 in /usr/local/lib/python3.11/dist-packages (from pydantic<3,>=1.9.0->openai) (0.7.0)\n",
            "Requirement already satisfied: pydantic-core==2.27.2 in /usr/local/lib/python3.11/dist-packages (from pydantic<3,>=1.9.0->openai) (2.27.2)\n",
            "Requirement already satisfied: aiohappyeyeballs>=2.3.0 in /usr/local/lib/python3.11/dist-packages (from aiohttp<4.0.0,>=3.8.6->llama-index-core<0.13.0,>=0.12.16->llama_index) (2.4.4)\n",
            "Requirement already satisfied: aiosignal>=1.1.2 in /usr/local/lib/python3.11/dist-packages (from aiohttp<4.0.0,>=3.8.6->llama-index-core<0.13.0,>=0.12.16->llama_index) (1.3.2)\n",
            "Requirement already satisfied: attrs>=17.3.0 in /usr/local/lib/python3.11/dist-packages (from aiohttp<4.0.0,>=3.8.6->llama-index-core<0.13.0,>=0.12.16->llama_index) (25.1.0)\n",
            "Requirement already satisfied: frozenlist>=1.1.1 in /usr/local/lib/python3.11/dist-packages (from aiohttp<4.0.0,>=3.8.6->llama-index-core<0.13.0,>=0.12.16->llama_index) (1.5.0)\n",
            "Requirement already satisfied: multidict<7.0,>=4.5 in /usr/local/lib/python3.11/dist-packages (from aiohttp<4.0.0,>=3.8.6->llama-index-core<0.13.0,>=0.12.16->llama_index) (6.1.0)\n",
            "Requirement already satisfied: propcache>=0.2.0 in /usr/local/lib/python3.11/dist-packages (from aiohttp<4.0.0,>=3.8.6->llama-index-core<0.13.0,>=0.12.16->llama_index) (0.2.1)\n",
            "Requirement already satisfied: yarl<2.0,>=1.17.0 in /usr/local/lib/python3.11/dist-packages (from aiohttp<4.0.0,>=3.8.6->llama-index-core<0.13.0,>=0.12.16->llama_index) (1.18.3)\n",
            "Requirement already satisfied: soupsieve>1.2 in /usr/local/lib/python3.11/dist-packages (from beautifulsoup4<5.0.0,>=4.12.3->llama-index-readers-file<0.5.0,>=0.4.0->llama_index) (2.6)\n",
            "Requirement already satisfied: llama-cloud-services in /usr/local/lib/python3.11/dist-packages (from llama-parse>=0.5.0->llama-index-readers-llama-parse>=0.4.0->llama_index) (0.6.0)\n",
            "Requirement already satisfied: charset-normalizer<4,>=2 in /usr/local/lib/python3.11/dist-packages (from requests>=2.31.0->llama-index-core<0.13.0,>=0.12.16->llama_index) (3.4.1)\n",
            "Requirement already satisfied: urllib3<3,>=1.21.1 in /usr/local/lib/python3.11/dist-packages (from requests>=2.31.0->llama-index-core<0.13.0,>=0.12.16->llama_index) (2.3.0)\n",
            "Requirement already satisfied: greenlet!=0.4.17 in /usr/local/lib/python3.11/dist-packages (from SQLAlchemy>=1.4.49->SQLAlchemy[asyncio]>=1.4.49->llama-index-core<0.13.0,>=0.12.16->llama_index) (3.1.1)\n",
            "Requirement already satisfied: mypy-extensions>=0.3.0 in /usr/local/lib/python3.11/dist-packages (from typing-inspect>=0.8.0->llama-index-core<0.13.0,>=0.12.16->llama_index) (1.0.0)\n",
            "Requirement already satisfied: marshmallow<4.0.0,>=3.18.0 in /usr/local/lib/python3.11/dist-packages (from dataclasses-json->llama-index-core<0.13.0,>=0.12.16->llama_index) (3.26.1)\n",
            "Requirement already satisfied: python-dateutil>=2.8.2 in /usr/local/lib/python3.11/dist-packages (from pandas->llama-index-readers-file<0.5.0,>=0.4.0->llama_index) (2.8.2)\n",
            "Requirement already satisfied: pytz>=2020.1 in /usr/local/lib/python3.11/dist-packages (from pandas->llama-index-readers-file<0.5.0,>=0.4.0->llama_index) (2025.1)\n",
            "Requirement already satisfied: tzdata>=2022.7 in /usr/local/lib/python3.11/dist-packages (from pandas->llama-index-readers-file<0.5.0,>=0.4.0->llama_index) (2025.1)\n",
            "Requirement already satisfied: packaging>=17.0 in /usr/local/lib/python3.11/dist-packages (from marshmallow<4.0.0,>=3.18.0->dataclasses-json->llama-index-core<0.13.0,>=0.12.16->llama_index) (24.2)\n",
            "Requirement already satisfied: six>=1.5 in /usr/local/lib/python3.11/dist-packages (from python-dateutil>=2.8.2->pandas->llama-index-readers-file<0.5.0,>=0.4.0->llama_index) (1.17.0)\n",
            "Requirement already satisfied: python-dotenv<2.0.0,>=1.0.1 in /usr/local/lib/python3.11/dist-packages (from llama-cloud-services->llama-parse>=0.5.0->llama-index-readers-llama-parse>=0.4.0->llama_index) (1.0.1)\n"
          ]
        }
      ]
    },
    {
      "cell_type": "code",
      "source": [
        "import openai\n",
        "import os\n",
        "from google.colab import userdata\n",
        "\n",
        "# Set your OpenAI API key\n",
        "openai.api_key = userdata.get('mj_open_api_key')\n"
      ],
      "metadata": {
        "id": "aglqnj92_Pau"
      },
      "execution_count": null,
      "outputs": []
    },
    {
      "cell_type": "markdown",
      "source": [
        "Lets initialize our model"
      ],
      "metadata": {
        "id": "2mszSijg9AlS"
      }
    },
    {
      "cell_type": "code",
      "source": [
        "from llama_index.llms.openai import OpenAI\n",
        "import json\n",
        "\n",
        "llm = OpenAI(model=\"gpt-4o-mini\")\n",
        "\n",
        "sllm = llm.as_structured_llm(ResumeData)\n",
        "\n",
        "llmResponse = sllm.complete(resume_text)\n",
        "# json_response = json.loads(llmResponse.text)\n",
        "# print(json.dumps(json_response, indent=2))\n",
        "\n",
        "json_response = llmResponse.model_dump()  # Use Pydantic's model_dump() to get a dict\n",
        "\n",
        "# Print the formatted JSON\n",
        "print(json.dumps(json_response, indent=2))"
      ],
      "metadata": {
        "colab": {
          "base_uri": "https://localhost:8080/"
        },
        "id": "lIrhvfkS9Cgj",
        "outputId": "ac2bccfc-85fc-47aa-b361-9513a1ba2d09",
        "collapsed": true
      },
      "execution_count": null,
      "outputs": [
        {
          "output_type": "stream",
          "name": "stdout",
          "text": [
            "{\n",
            "  \"text\": \"{\\\"name\\\":\\\"CRISTEL VILLARIN - REYES\\\",\\\"email\\\":\\\"villarincristel@gmail.com\\\",\\\"phone_number\\\":\\\"0929-959-2303\\\",\\\"address\\\":\\\"Block 8 Lot 28 Romanville Subd. Brgy. Tagapo Sta. Rosa Laguna\\\",\\\"about\\\":\\\"A staff with 8+ years of experience in a corporate setting. Proficient in report preparation, data management and presenter. Skilled in coordination, communication and teamwork, dedicated to achieving team\\u2019s goal, leading to the organization\\u2019s success.\\\",\\\"education\\\":[{\\\"school\\\":\\\"STI College - Balayan\\\",\\\"startDate\\\":\\\"2010-06-01\\\",\\\"endDate\\\":\\\"2014-04-01\\\",\\\"degree\\\":\\\"BS Business Administration Major in Operations Management\\\"},{\\\"school\\\":\\\"San Piro National Highschool\\\",\\\"startDate\\\":\\\"2006-06-01\\\",\\\"endDate\\\":\\\"2010-04-01\\\",\\\"degree\\\":\\\"Secondary Education\\\"},{\\\"school\\\":\\\"Baha Elementary School\\\",\\\"startDate\\\":\\\"2001-06-01\\\",\\\"endDate\\\":\\\"2006-04-01\\\",\\\"degree\\\":\\\"Primary Education\\\"}],\\\"experience\\\":[{\\\"title\\\":\\\"Master Data Custodian - Supervisor\\\",\\\"company\\\":\\\"Bounty Plus Inc.\\\",\\\"startDate\\\":\\\"2022-11-01\\\",\\\"endDate\\\":\\\"Present\\\",\\\"duration\\\":\\\"1 year 10 months\\\"},{\\\"title\\\":\\\"Finance Administrative Assistant\\\",\\\"company\\\":\\\"Bounty Agro Ventures Inc.\\\",\\\"startDate\\\":\\\"2016-09-01\\\",\\\"endDate\\\":\\\"2022-11-01\\\",\\\"duration\\\":\\\"6 years 2 months\\\"},{\\\"title\\\":\\\"Accounting Clerk\\\",\\\"company\\\":\\\"Pilipinas Kyoritsu Inc.\\\",\\\"startDate\\\":\\\"2015-08-01\\\",\\\"endDate\\\":\\\"2016-06-01\\\",\\\"duration\\\":\\\"10 months\\\"},{\\\"title\\\":\\\"Pattern Clerk\\\",\\\"company\\\":\\\"Excellent Quality Apparel\\\",\\\"startDate\\\":\\\"2014-06-01\\\",\\\"endDate\\\":\\\"2015-07-01\\\",\\\"duration\\\":\\\"1 year 1 month\\\"}],\\\"blood_type\\\":null}\",\n",
            "  \"additional_kwargs\": {},\n",
            "  \"raw\": {\n",
            "    \"name\": \"CRISTEL VILLARIN - REYES\",\n",
            "    \"email\": \"villarincristel@gmail.com\",\n",
            "    \"phone_number\": \"0929-959-2303\",\n",
            "    \"address\": \"Block 8 Lot 28 Romanville Subd. Brgy. Tagapo Sta. Rosa Laguna\",\n",
            "    \"about\": \"A staff with 8+ years of experience in a corporate setting. Proficient in report preparation, data management and presenter. Skilled in coordination, communication and teamwork, dedicated to achieving team\\u2019s goal, leading to the organization\\u2019s success.\",\n",
            "    \"education\": [\n",
            "      {\n",
            "        \"school\": \"STI College - Balayan\",\n",
            "        \"startDate\": \"2010-06-01\",\n",
            "        \"endDate\": \"2014-04-01\",\n",
            "        \"degree\": \"BS Business Administration Major in Operations Management\"\n",
            "      },\n",
            "      {\n",
            "        \"school\": \"San Piro National Highschool\",\n",
            "        \"startDate\": \"2006-06-01\",\n",
            "        \"endDate\": \"2010-04-01\",\n",
            "        \"degree\": \"Secondary Education\"\n",
            "      },\n",
            "      {\n",
            "        \"school\": \"Baha Elementary School\",\n",
            "        \"startDate\": \"2001-06-01\",\n",
            "        \"endDate\": \"2006-04-01\",\n",
            "        \"degree\": \"Primary Education\"\n",
            "      }\n",
            "    ],\n",
            "    \"experience\": [\n",
            "      {\n",
            "        \"title\": \"Master Data Custodian - Supervisor\",\n",
            "        \"company\": \"Bounty Plus Inc.\",\n",
            "        \"startDate\": \"2022-11-01\",\n",
            "        \"endDate\": \"Present\",\n",
            "        \"duration\": \"1 year 10 months\"\n",
            "      },\n",
            "      {\n",
            "        \"title\": \"Finance Administrative Assistant\",\n",
            "        \"company\": \"Bounty Agro Ventures Inc.\",\n",
            "        \"startDate\": \"2016-09-01\",\n",
            "        \"endDate\": \"2022-11-01\",\n",
            "        \"duration\": \"6 years 2 months\"\n",
            "      },\n",
            "      {\n",
            "        \"title\": \"Accounting Clerk\",\n",
            "        \"company\": \"Pilipinas Kyoritsu Inc.\",\n",
            "        \"startDate\": \"2015-08-01\",\n",
            "        \"endDate\": \"2016-06-01\",\n",
            "        \"duration\": \"10 months\"\n",
            "      },\n",
            "      {\n",
            "        \"title\": \"Pattern Clerk\",\n",
            "        \"company\": \"Excellent Quality Apparel\",\n",
            "        \"startDate\": \"2014-06-01\",\n",
            "        \"endDate\": \"2015-07-01\",\n",
            "        \"duration\": \"1 year 1 month\"\n",
            "      }\n",
            "    ],\n",
            "    \"blood_type\": null\n",
            "  },\n",
            "  \"logprobs\": null,\n",
            "  \"delta\": null\n",
            "}\n"
          ]
        }
      ]
    },
    {
      "cell_type": "markdown",
      "source": [
        "**Structured Prediction**\n",
        "\n",
        "Structured Prediction allows you to extract and organize data from unstructured text (like PDFs or plain text) into a structured format. In this case, the structured format is a Pydantic class (which defines the data structure), and the extraction is handled through LLMs (Large Language Models) like OpenAI.\n",
        "\n",
        "\n",
        "Key Concepts:\n",
        "1. **Pydantic Class**: Pydantic is used to define the data structure you want your LLM to return. For example, an invoice might have fields like invoice_id, date, and line_items. You create a Pydantic class that matches this structure.\n",
        "\n",
        "2. **Prompt Template**: This is the instruction given to the LLM on how to extract and structure the data. In the example, the prompt asks the LLM to extract an invoice from a given text and, if no invoice ID is found, to use the company name and date.\n",
        "\n",
        "3. **structured_predict**: This method allows you to call the LLM and pass both the Pydantic class (the structure you want) and the PromptTemplate (the extraction instructions). You can also include extra parameters (e.g., company_name=\"Uber\") to guide the model in generating more specific data."
      ],
      "metadata": {
        "id": "jwP_JitShgG2"
      }
    },
    {
      "cell_type": "code",
      "source": [
        "from llama_index.core.prompts import PromptTemplate\n",
        "import json\n",
        "\n",
        "\n",
        "\n",
        "\n",
        "prompt = PromptTemplate(\n",
        "    \"\"\"\n",
        "    Given the following resume text, Identify the latest work experience of the user.\n",
        "    todays date is February 8, 2025.\n",
        "    Resume Text:\\n{text}\n",
        "    \"\"\"\n",
        ")\n",
        "# if endDate have Present as value then set that to todays date February 8, 2025.\n",
        "# For the title add a prefix of `Awesome Job:`\n",
        "\n",
        "try:\n",
        "    resume_data_response = llm.structured_predict(\n",
        "        Experience, prompt, text=resume_text\n",
        "    )\n",
        "\n",
        "    print(json.dumps(resume_data_response.model_dump(), indent=1))\n",
        "\n",
        "except Exception as e:\n",
        "    print(f\"Error extracting latest experience: {e}\")\n",
        "\n"
      ],
      "metadata": {
        "colab": {
          "base_uri": "https://localhost:8080/"
        },
        "id": "nmBRIbKciMMl",
        "outputId": "b9a81dcd-79c7-44bb-e9cc-180064196dab"
      },
      "execution_count": null,
      "outputs": [
        {
          "output_type": "stream",
          "name": "stdout",
          "text": [
            "{\n",
            " \"title\": \"Master Data Custodian - Supervisor\",\n",
            " \"company\": \"Bounty Plus Inc.\",\n",
            " \"startDate\": \"November 2022\",\n",
            " \"endDate\": \"Present\",\n",
            " \"duration\": \"2 years and 3 months\"\n",
            "}\n"
          ]
        }
      ]
    },
    {
      "cell_type": "markdown",
      "source": [
        "As you can see, this allows us to include additional prompt direction for what the LLM should do if Pydantic isn’t quite enough to parse the data correctly.  The response object in this case is the Pydantic object itself. We can get the output as JSON if we want:"
      ],
      "metadata": {
        "id": "TWaYlITklk8m"
      }
    }
  ]
}